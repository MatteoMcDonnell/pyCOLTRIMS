{
 "cells": [
  {
   "cell_type": "markdown",
   "metadata": {},
   "source": [
    "# There are notes below each cell, discribing functionality"
   ]
  },
  {
   "cell_type": "code",
   "execution_count": 2,
   "metadata": {},
   "outputs": [],
   "source": [
    "import numpy as np\n",
    "import pandas as pd\n",
    "from itertools import combinations\n",
    "import fast_histogram as fh\n",
    "import matplotlib.pyplot as plt"
   ]
  },
  {
   "cell_type": "markdown",
   "metadata": {},
   "source": [
    "This simply imports things that will be needed for the program"
   ]
  },
  {
   "cell_type": "code",
   "execution_count": 3,
   "metadata": {},
   "outputs": [],
   "source": [
    "data = pd.read_csv('/home/matteo/Documents/research/summer2019/coltrims/Acetonitrile/acetonitrile_24_44_1300_DAn.000001150_1615_9760_9800.csv')\n",
    "data['index0'] = data.index"
   ]
  },
  {
   "cell_type": "markdown",
   "metadata": {},
   "source": [
    "Imports the data and adds the index as a column so that it can be saved when creating pairwise coincidences. This is so you can simply do the calculations to all the datapoints you will need, aka those that are gated with sumdif, and then populate a dataframe where each row is a coincidence.\n",
    "\n",
    "If this is unclear, it should make more sense lower down."
   ]
  },
  {
   "cell_type": "code",
   "execution_count": 15,
   "metadata": {},
   "outputs": [
    {
     "name": "stdout",
     "output_type": "stream",
     "text": [
      "   delay       x       y       tof      id  index0\n",
      "0    0.0   2.542  -3.879  4099.992  1781.0       0\n",
      "1    0.0  -0.590   1.718  5692.564  1781.0       1\n",
      "2    0.0   6.925  19.544  4225.378  3527.0       2\n",
      "3    0.0  -3.780 -13.090  5567.530  3527.0       3\n",
      "4    0.0   3.253  16.381  4146.178  5992.0       4\n",
      "5    0.0  -1.728 -11.837  5642.300  5992.0       5\n",
      "6    0.0  11.411 -13.803  4118.968  6820.0       6\n",
      "7    0.0  -7.572  10.675  5655.396  6820.0       7\n",
      "8    0.0  -3.290  -3.098  4291.108  7375.0       8\n",
      "9    0.0   2.762   2.138  5488.663  7375.0       9\n"
     ]
    },
    {
     "data": {
      "image/png": "[encoded data removed]",
      "text/plain": [
       "<Figure size 720x720 with 1 Axes>"
      ]
     },
     "metadata": {
      "needs_background": "light"
     },
     "output_type": "display_data"
    }
   ],
   "source": [
    "#data.tof = data.tof.apply(lambda tof: tof/1000)\n",
    "#data.x = data.x.apply(lambda x: x/1000)\n",
    "#data.y = data.y.apply(lambda y: y/1000)\n",
    "\n",
    "print(data.iloc[:10])"
   ]
  },
  {
   "cell_type": "markdown",
   "metadata": {},
   "source": [
    "This changes the units of x, y, and tof such that x and y are in mm and tof is in ns"
   ]
  },
  {
   "cell_type": "code",
   "execution_count": 16,
   "metadata": {},
   "outputs": [],
   "source": [
    "#this is probably going to take forever no matter what, it is setting up every possible pairwise combination\n",
    "\n",
    "#data = data.iloc[:2000000]\n",
    "pairwise = pd.DataFrame([[k, c0, c1] for k, index in data.groupby('id').index0\n",
    "                                  for c0, c1 in combinations(index, 2)\n",
    "                             ], columns=['id', 'index1', 'index2'])\n",
    "\n",
    "\n"
   ]
  },
  {
   "cell_type": "markdown",
   "metadata": {},
   "source": [
    "Creates all pairwise combinations of detections in the same event so that sumdif gating can be applied"
   ]
  },
  {
   "cell_type": "code",
   "execution_count": 17,
   "metadata": {},
   "outputs": [],
   "source": [
    "def sumdifGater(data,pairwise,gates):\n",
    "    \n",
    "    temp = pairwise\n",
    "    \n",
    "    temp['sum'] = data.iloc[temp['index1'].values].tof.values + data.iloc[temp['index2'].values].tof.values\n",
    "    temp['dif'] = data.iloc[temp['index2'].values].tof.values - data.iloc[temp['index1'].values].tof.values\n",
    "    \n",
    "    temp['checkSum'] = (gates[2] < temp['sum']) & (temp['sum'] < gates[3])\n",
    "    temp['checkDif'] = (gates[0] < temp['dif']) & (temp['dif'] < gates[1])\n",
    "    \n",
    "    output = pairwise.loc[temp['checkSum'] & temp['checkDif']][['id','index1','index2']].reset_index(drop=True)\n",
    "    \n",
    "    return output\n"
   ]
  },
  {
   "cell_type": "markdown",
   "metadata": {},
   "source": [
    "This function actually goes through the process of doing the gating"
   ]
  },
  {
   "cell_type": "code",
   "execution_count": 18,
   "metadata": {},
   "outputs": [],
   "source": [
    "sumdifGates = [1150,1615,9760,9800]\n",
    "\n",
    "def tot1t2(gates):\n",
    "    #so you can get the t1,t2 bounds\n",
    "    \n",
    "    difmin = gates[0]\n",
    "    difmax = gates[1]\n",
    "    summin = gates[2]\n",
    "    summax = gates[3]\n",
    "    \n",
    "    t1min = (summax - difmin)/2\n",
    "    t1max = (summin - difmax)/2\n",
    "    t2min = (summin + difmin)/2\n",
    "    t2max = (summax + difmax)/2\n",
    "    \n",
    "    return [t1min,t1max,t2min,t2max]\n",
    "\n",
    "t1t2Gates = tot1t2(sumdifGates) "
   ]
  },
  {
   "cell_type": "code",
   "execution_count": 19,
   "metadata": {},
   "outputs": [
    {
     "name": "stdout",
     "output_type": "stream",
     "text": [
      "14788 rows\n",
      "        id  index1  index2\n",
      "0   1781.0       0       1\n",
      "1   3527.0       2       3\n",
      "2   5992.0       4       5\n",
      "3   6820.0       6       7\n",
      "4   7375.0       8       9\n",
      "5   7615.0      10      11\n",
      "6   8810.0      12      13\n",
      "7  10403.0      14      15\n",
      "8  11476.0      16      17\n",
      "9  11533.0      18      19\n"
     ]
    }
   ],
   "source": [
    "\n",
    "cutIndexes = sumdifGater(data,pairwise,sumdifGates)\n",
    "\n",
    "indList = [int(col[-1]) for col in cutIndexes if col.startswith('index')]\n",
    "\n",
    "print(cutIndexes.shape[0],'rows')\n",
    "print(cutIndexes.iloc[:10])"
   ]
  },
  {
   "cell_type": "markdown",
   "metadata": {},
   "source": [
    "Completes the gating with the above gates.\n",
    "\n",
    "Format: [difmin, difmax, summin, summax]\n",
    "\n",
    "Also creates a list of the indexes numerically"
   ]
  },
  {
   "cell_type": "code",
   "execution_count": 20,
   "metadata": {},
   "outputs": [
    {
     "name": "stderr",
     "output_type": "stream",
     "text": [
      "/usr/lib/python3.7/site-packages/ipykernel_launcher.py:4: RuntimeWarning: divide by zero encountered in log\n",
      "  after removing the cwd from sys.path.\n"
     ]
    },
    {
     "name": "stdout",
     "output_type": "stream",
     "text": [
      "4.584967478670572\n"
     ]
    },
    {
     "data": {
      "image/png": "[encoded data removed]",
      "text/plain": [
       "<Figure size 720x720 with 1 Axes>"
      ]
     },
     "metadata": {
      "needs_background": "light"
     },
     "output_type": "display_data"
    }
   ],
   "source": [
    "def pipico(tmin,tmax,binN,dataIndexes):\n",
    "    hist = fh.histogram2d(data.loc[dataIndexes['index2']],data.loc[dataIndexes['index1']],range = [[tmin,tmax],[tmin,tmax]],bins = binN)\n",
    "\n",
    "    hist = np.log(hist)\n",
    "    hist[hist == -np.inf] = 0\n",
    "\n",
    "    print(hist.max())\n",
    "\n",
    "    dx = (tmax-tmin)/binN\n",
    "\n",
    "    y, x = np.mgrid[slice(tmin, tmax + dx, dx),\n",
    "    slice(tmin, tmax + dx, dx)]\n",
    "\n",
    "    plt.pcolormesh(x,y,hist)\n",
    "    plt.rcParams[\"figure.figsize\"] = [10,10]\n",
    "    plt.show()\n",
    "\n",
    "\n",
    "pipico(1500,7000,1000,pairwise)\n"
   ]
  },
  {
   "cell_type": "code",
   "execution_count": 21,
   "metadata": {},
   "outputs": [],
   "source": [
    "compList = pd.DataFrame(np.sort(np.append(cutIndexes['index1'].values,cutIndexes['index2'].values)),columns=['index0']).drop_duplicates().reset_index(drop=True)"
   ]
  },
  {
   "cell_type": "markdown",
   "metadata": {},
   "source": [
    "Generates a dataframe with a complete list of the indexes of the datafile that were left over after the gating. The momentum and other physics calculations that just involve one particle will be done here, since you can populate the coincidence dataframe later with that info. \n",
    "\n",
    "(Man I love Pandas, those one-liners are so nice)"
   ]
  },
  {
   "cell_type": "code",
   "execution_count": 22,
   "metadata": {},
   "outputs": [
    {
     "name": "stdout",
     "output_type": "stream",
     "text": [
      "        x       y       tof      id\n",
      "0   2.542  -3.879  4099.992  1781.0\n",
      "1  -0.590   1.718  5692.564  1781.0\n",
      "2   6.925  19.544  4225.378  3527.0\n",
      "3  -3.780 -13.090  5567.530  3527.0\n",
      "4   3.253  16.381  4146.178  5992.0\n",
      "5  -1.728 -11.837  5642.300  5992.0\n",
      "6  11.411 -13.803  4118.968  6820.0\n",
      "7  -7.572  10.675  5655.396  6820.0\n"
     ]
    }
   ],
   "source": [
    "def dataPopulation(data,compList):\n",
    "        \n",
    "    temp = data.loc[compList['index0']][['x','y','tof','id']]\n",
    "    return temp\n",
    "\n",
    "\n",
    "compList = dataPopulation(data,compList)\n",
    "#compList['id'] = data.iloc[compList['index0'].values].id.reset_index(drop=True)\n",
    "\n",
    "print(compList.iloc[:8])"
   ]
  },
  {
   "cell_type": "markdown",
   "metadata": {},
   "source": [
    "Fills in the data in the Dataframe of the post-cut detections"
   ]
  },
  {
   "cell_type": "code",
   "execution_count": 23,
   "metadata": {},
   "outputs": [
    {
     "name": "stdout",
     "output_type": "stream",
     "text": [
      "0.12462857579331578 -0.11345138099396723\n"
     ]
    }
   ],
   "source": [
    "def getCenter(datalist):\n",
    "    \n",
    "    from helper import center_by_moments\n",
    "    \n",
    "    xmin = -60\n",
    "    xmax = 60\n",
    "    xbin = 150\n",
    "\n",
    "    xy_hist = fh.histogram2d(datalist['x'],datalist['y'],range = [[xmin,xmax],[xmin,xmax]],bins = xbin)\n",
    "\n",
    "    dx = (xmax- xmin)/xbin\n",
    "\n",
    "    y_, x_ = np.mgrid[slice(xmin, xmax, dx),\n",
    "               slice(xmin, xmax, dx)]\n",
    "\n",
    "    x0,y0 = center_by_moments(x_[0],x_[0],xy_hist,False)\n",
    "    \n",
    "    return float(x0),float(y0)\n",
    "\n",
    "x0, y0 = getCenter(compList)\n",
    "print(x0,y0)"
   ]
  },
  {
   "cell_type": "markdown",
   "metadata": {},
   "source": [
    "Gets the center of physics of the cut data."
   ]
  },
  {
   "cell_type": "code",
   "execution_count": 28,
   "metadata": {},
   "outputs": [],
   "source": [
    "from helper import fitEfield\n",
    "from helper import GetZVelocity\n",
    "\n",
    "E_field_new, ion_drift_length_new, t0_new = fitEfield()\n",
    "\n",
    "\n",
    "#in increasing order of mass (ie, mass of t1, mass of t2, etc)\n",
    "#and the corisponding charge\n",
    "mass = [14,27]\n",
    "mass_amu = [(m * 1.66056e-27) for m in mass]\n",
    "charge = [1,1]\n",
    "\n",
    "ion_accel_length = 0.27\n",
    "\n",
    "\n",
    "def apInd(string,ind):\n",
    "    \n",
    "    return string+str(ind)\n"
   ]
  },
  {
   "cell_type": "markdown",
   "metadata": {},
   "source": [
    "The above cell sets up calculating the three componants of momenta. It and the two cells below are (I think) generalized for tripico as well.\n",
    "\n",
    "Change mass and charge as needed. "
   ]
  },
  {
   "cell_type": "code",
   "execution_count": 29,
   "metadata": {
    "scrolled": true
   },
   "outputs": [
    {
     "name": "stdout",
     "output_type": "stream",
     "text": [
      "       id  index1  index2      x1      y1      tof1     x2      y2      tof2\n",
      "0  1781.0       0       1   2.542  -3.879  4099.992 -0.590   1.718  5692.564\n",
      "1  3527.0       2       3   6.925  19.544  4225.378 -3.780 -13.090  5567.530\n",
      "2  5992.0       4       5   3.253  16.381  4146.178 -1.728 -11.837  5642.300\n",
      "3  6820.0       6       7  11.411 -13.803  4118.968 -7.572  10.675  5655.396\n",
      "4  7375.0       8       9  -3.290  -3.098  4291.108  2.762   2.138  5488.663\n"
     ]
    }
   ],
   "source": [
    "def filldata(compList,cutIndexes):\n",
    "    \n",
    "    addit = [cutIndexes]\n",
    "    \n",
    "    for ind in indList:\n",
    "        \n",
    "        temp0 = data.loc[cutIndexes[apInd('index',ind)]][['x','y','tof',]].reset_index(drop=True)\n",
    "        temp0.columns = [apInd(col,ind) for col in temp0]\n",
    "        addit.append(temp0)\n",
    "  \n",
    "    return pd.concat(addit, axis=1)\n",
    "    \n",
    "\n",
    "coincXYT = filldata(compList,cutIndexes)\n",
    "\n",
    "  \n",
    "print(coincXYT.iloc[:5])\n"
   ]
  },
  {
   "cell_type": "code",
   "execution_count": 54,
   "metadata": {},
   "outputs": [
    {
     "name": "stdout",
     "output_type": "stream",
     "text": [
      "(14788, 21)\n"
     ]
    }
   ],
   "source": [
    "def velocP(coincXYT):\n",
    "    \n",
    "    addit = [coincXYT]\n",
    "    \n",
    "    for ind in indList:      \n",
    "        \n",
    "        temp = pd.DataFrame()\n",
    "        temp[apInd('vx',ind)] = (coincXYT[apInd('x',ind)] - x0) / (coincXYT[apInd('tof',ind)] - t0_new) * 1000000\n",
    "        temp[apInd('vy',ind)] = (coincXYT[apInd('y',ind)] - y0) / (coincXYT[apInd('tof',ind)] - t0_new) * 1000000\n",
    "        temp[apInd('vz',ind)] = coincXYT[apInd('tof',ind)].apply(GetZVelocity,args=(mass[ind-1],charge[ind-1],E_field_new, ion_accel_length ,ion_drift_length_new))    \n",
    "        \n",
    "        temp[apInd('px',ind)] = mass_amu[ind-1] * temp[apInd('vx',ind)] * 0.5 * 1e24\n",
    "        temp[apInd('py',ind)] = mass_amu[ind-1] * temp[apInd('vy',ind)] * 0.5 * 1e24\n",
    "        temp[apInd('pz',ind)] = mass_amu[ind-1] * temp[apInd('vz',ind)] * 0.5 * 1e24\n",
    "    \n",
    "        addit.append(temp)\n",
    "\n",
    "    return(pd.concat(addit, axis=1))\n",
    "    \n",
    "\n",
    "completePop = velocP(coincXYT)\n",
    "\n",
    "print(completePop.shape)"
   ]
  },
  {
   "cell_type": "markdown",
   "metadata": {},
   "source": [
    "Populates all three components of velocity, as well as the momentum for every detection selected with the cut, using the masses and charges given above."
   ]
  },
  {
   "cell_type": "code",
   "execution_count": 56,
   "metadata": {},
   "outputs": [],
   "source": [
    "completePop['pxsum'] = completePop['px1']+completePop['px2']\n",
    "completePop['pysum'] = completePop['py1']+completePop['py2']\n",
    "completePop['pzsum'] = completePop['pz1']+completePop['pz2']"
   ]
  },
  {
   "cell_type": "code",
   "execution_count": 58,
   "metadata": {},
   "outputs": [
    {
     "data": {
      "image/png": "[encoded data removed]",
      "text/plain": [
       "<Figure size 720x720 with 1 Axes>"
      ]
     },
     "metadata": {
      "needs_background": "light"
     },
     "output_type": "display_data"
    }
   ],
   "source": [
    "plt.hist(completePop['pysum'],bins=150,range=(-30,30))\n",
    "plt.show()"
   ]
  },
  {
   "cell_type": "code",
   "execution_count": null,
   "metadata": {},
   "outputs": [],
   "source": []
  },
  {
   "cell_type": "code",
   "execution_count": null,
   "metadata": {},
   "outputs": [],
   "source": []
  }
 ],
 "metadata": {
  "kernelspec": {
   "display_name": "Python 3",
   "language": "python",
   "name": "python3"
  },
  "language_info": {
   "codemirror_mode": {
    "name": "ipython",
    "version": 3
   },
   "file_extension": ".py",
   "mimetype": "text/x-python",
   "name": "python",
   "nbconvert_exporter": "python",
   "pygments_lexer": "ipython3",
   "version": "3.7.3"
  }
 },
 "nbformat": 4,
 "nbformat_minor": 2
}
